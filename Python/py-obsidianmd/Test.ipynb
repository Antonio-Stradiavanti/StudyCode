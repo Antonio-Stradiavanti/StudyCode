{
 "cells": [
  {
   "cell_type": "code",
   "execution_count": 32,
   "metadata": {},
   "outputs": [],
   "source": [
    "from pathlib import Path\n",
    "from pyomd import Notes, Note\n",
    "from pyomd.metadata import MetadataType\n",
    "\n",
    "path = Path('D:/Vaults/Test py-obidianmd/media')\n",
    "notes = Notes(path)\n"
   ]
  },
  {
   "cell_type": "code",
   "execution_count": 31,
   "metadata": {},
   "outputs": [],
   "source": [
    "#notes.metadata.add(k = \"fileClass\", l = \"Conspectus\", meta_type=MetadataType.FRONTMATTER)\n",
    "notes.metadata.move(k = [\"tags\"], fr=MetadataType.INLINE, to=MetadataType.FRONTMATTER)\n",
    "notes.update_content(inline_inplace=True)\n",
    "notes.write()"
   ]
  }
 ],
 "metadata": {
  "kernelspec": {
   "display_name": "Python 3",
   "language": "python",
   "name": "python3"
  },
  "language_info": {
   "codemirror_mode": {
    "name": "ipython",
    "version": 3
   },
   "file_extension": ".py",
   "mimetype": "text/x-python",
   "name": "python",
   "nbconvert_exporter": "python",
   "pygments_lexer": "ipython3",
   "version": "3.11.1"
  },
  "orig_nbformat": 4,
  "vscode": {
   "interpreter": {
    "hash": "8b3862bff8ec4c0913ff501ec59a91eeec109cc3060137e5ac68f23925615549"
   }
  }
 },
 "nbformat": 4,
 "nbformat_minor": 2
}
