{
 "cells": [
  {
   "attachments": {},
   "cell_type": "markdown",
   "metadata": {},
   "source": [
    "вариант 21\n",
    "\n",
    "1. Нужно расставить приоритет операций\n",
    "2. Нужно сгенерировать множество возможных значений для ∀ переменной\n",
    " "
   ]
  },
  {
   "cell_type": "code",
   "execution_count": 1,
   "metadata": {},
   "outputs": [
    {
     "name": "stdout",
     "output_type": "stream",
     "text": [
      "a)\n"
     ]
    }
   ],
   "source": [
    "def sumMod2(x, y):\n",
    "    return 1 if x != y else 0\n",
    "#-----\n",
    "def implication(x, y):\n",
    "    return 0 if x == 1 and y == 0 else 1\n",
    "#---\n",
    "def equal(x, y):\n",
    "    return 1 if x == y else 0\n",
    "#---\n",
    "def PierHand(x, y):\n",
    "    return 1 if x == 0 and y == 0 else 0\n",
    "#---\n",
    "def ShaeffersTouch(x, y):\n",
    "    return 0 if x == 1 and y == 1 else 1"
   ]
  },
  {
   "cell_type": "code",
   "execution_count": 43,
   "metadata": {},
   "outputs": [
    {
     "name": "stdout",
     "output_type": "stream",
     "text": [
      "|\tx\t|\ty\t|\n",
      "\n",
      "|\t 0 \t|\t 0 \t|\n",
      "|\t 0 \t|\t 1 \t|\n",
      "|\t 1 \t|\t 0 \t|\n",
      "|\t 1 \t|\t 1 \t|\n"
     ]
    }
   ],
   "source": [
    "print(\"|\\tx\\t|\\ty\\t|\\n\")\n",
    "\n",
    "for i in (0, 1):\n",
    "    for j in (0, 1):\n",
    "        print(\"|\\t\", i, \"\\t|\\t\", j, \"\\t|\")"
   ]
  },
  {
   "cell_type": "code",
   "execution_count": 68,
   "metadata": {},
   "outputs": [
    {
     "name": "stdout",
     "output_type": "stream",
     "text": [
      "\n",
      "\n",
      "N1\n",
      "\n",
      "a)\n",
      "y → x\tx ⊕ (y → x)\n",
      "\n",
      "1 \t 1\n",
      "0 \t 0\n",
      "1 \t 0\n",
      "1 \t 0\n",
      "\n",
      "\n",
      "б)\n",
      "not x\tnot y\tx ∼ (not y)\t(not x) | y\t(x ∼ (not y)) ⊕ ((not x) | y) \n",
      "\n",
      "1 \t 1 \t 0 \t\t 1 \t\t\t 1\n",
      "1 \t 0 \t 1 \t\t 0 \t\t\t 1\n",
      "0 \t 1 \t 1 \t\t 1 \t\t\t 0\n",
      "0 \t 0 \t 0 \t\t 1 \t\t\t 1\n",
      "\n",
      "\n",
      "в)\n",
      "not x\tnot y\t(y and x)\t(not x) ↓ (y and x)\t(not y) | x\t((not x) ↓ (y and x)) ⊕ ((not y) | x)\n",
      "\n",
      "1 \t 1 \t 0 \t\t\t 0 \t\t 1 \t\t\t\t 1\n",
      "1 \t 0 \t 0 \t\t\t 0 \t\t 1 \t\t\t\t 1\n",
      "0 \t 1 \t 0 \t\t\t 1 \t\t 0 \t\t\t\t 1\n",
      "0 \t 0 \t 1 \t\t\t 0 \t\t 1 \t\t\t\t 1\n"
     ]
    }
   ],
   "source": [
    "print(\"\\n\\nN1\\na)\\ny → x\\tx ⊕ (y → x)\\n\")\n",
    "for i in (0, 1):\n",
    "    for j in (0, 1):\n",
    "        print( \n",
    "                implication(j, i),\n",
    "                \"\\t\",\n",
    "                sumMod2(i, implication(j, i))\n",
    "             )\n",
    "print(\"\\n\\nб)\\nnot x\\tnot y\\tx ∼ (not y)\\t(not x) | y\\t(x ∼ (not y)) ⊕ ((not x) | y) \\n\")\n",
    "for i in (0, 1):\n",
    "    for j in (0, 1):\n",
    "        print(\n",
    "                (not i)*1,\n",
    "                \"\\t\",\n",
    "                (not j)*1,\n",
    "                \"\\t\",\n",
    "                equal(i, (not j)),\n",
    "                \"\\t\\t\",\n",
    "                ShaeffersTouch((not i), j),\n",
    "                \"\\t\\t\\t\",\n",
    "                sumMod2(equal(i, (not j)), ShaeffersTouch((not i), j))\n",
    "            ) \n",
    "print(\"\\n\\nв)\\nnot x\\tnot y\\t(y and x)\\t(not x) ↓ (y and x)\\t(not y) | x\\t((not x) ↓ (y and x)) ⊕ ((not y) | x)\\n\")\n",
    "for i in (0, 1):\n",
    "    for j in (0, 1):\n",
    "        print(\n",
    "                (not i)*1,\n",
    "                \"\\t\",\n",
    "                (not j)*1,\n",
    "                \"\\t\",\n",
    "                (j and i)*1,\n",
    "                \"\\t\\t\\t\",\n",
    "                PierHand((not i), (j and i)),\n",
    "                \"\\t\\t\",\n",
    "                ShaeffersTouch((not j), i),\n",
    "                \"\\t\\t\\t\\t\",\n",
    "                sumMod2(PierHand((not i), (j and i)), ShaeffersTouch((not j), i))\n",
    "        )              "
   ]
  },
  {
   "cell_type": "code",
   "execution_count": 42,
   "metadata": {},
   "outputs": [
    {
     "name": "stdout",
     "output_type": "stream",
     "text": [
      "|\tx\t|\ty\t|\tz\t|\n",
      "\n",
      "|\t 0 \t|\t 0 \t|\t 0 \t|\n",
      "|\t 0 \t|\t 0 \t|\t 1 \t|\n",
      "|\t 0 \t|\t 1 \t|\t 0 \t|\n",
      "|\t 0 \t|\t 1 \t|\t 1 \t|\n",
      "|\t 1 \t|\t 0 \t|\t 0 \t|\n",
      "|\t 1 \t|\t 0 \t|\t 1 \t|\n",
      "|\t 1 \t|\t 1 \t|\t 0 \t|\n",
      "|\t 1 \t|\t 1 \t|\t 1 \t|\n"
     ]
    }
   ],
   "source": [
    "print(\"|\\tx\\t|\\ty\\t|\\tz\\t|\\n\")\n",
    "\n",
    "for i in (0, 1):\n",
    "    for j in (0, 1):\n",
    "        for k in (0, 1):\n",
    "            print(\"|\\t\", i, \"\\t|\\t\", j, \"\\t|\\t\", k, \"\\t|\")\n",
    "            "
   ]
  },
  {
   "cell_type": "code",
   "execution_count": 67,
   "metadata": {},
   "outputs": [
    {
     "name": "stdout",
     "output_type": "stream",
     "text": [
      "\n",
      "\n",
      "N2\n",
      "\n",
      "а)\n",
      "(y ∼ z)\t\t(x → (y ∼ z))\n",
      "\n",
      "1 \t\t 1\n",
      "0 \t\t 1\n",
      "0 \t\t 1\n",
      "1 \t\t 1\n",
      "1 \t\t 1\n",
      "0 \t\t 0\n",
      "0 \t\t 0\n",
      "1 \t\t 1\n",
      "\n",
      "\n",
      "б)\n",
      "not z\t(not z) → y\tx | ((not z) → y)\t(x | ((not z) → y)) or z\n",
      "\n",
      "1 \t 0 \t\t\t 1 \t\t\t 1\n",
      "0 \t 1 \t\t\t 1 \t\t\t 1\n",
      "1 \t 1 \t\t\t 1 \t\t\t 1\n",
      "0 \t 1 \t\t\t 1 \t\t\t 1\n",
      "1 \t 0 \t\t\t 1 \t\t\t 1\n",
      "0 \t 1 \t\t\t 0 \t\t\t 1\n",
      "1 \t 1 \t\t\t 0 \t\t\t 0\n",
      "0 \t 1 \t\t\t 0 \t\t\t 1\n",
      "\n",
      "\n",
      "в)\n",
      "not z\tnot x\t(x → y)\t\t(not z) and (not x)\tz ↓ ((not z) and (not x))\t(x → y) ⊕ (z ↓ ((not z) and (not x)))\n",
      "\n",
      "1 \t 1 \t 1 \t\t 1 \t\t\t\t 0 \t\t\t\t\t 1\n",
      "0 \t 1 \t 1 \t\t 0 \t\t\t\t 0 \t\t\t\t\t 1\n",
      "1 \t 1 \t 1 \t\t 1 \t\t\t\t 0 \t\t\t\t\t 1\n",
      "0 \t 1 \t 1 \t\t 0 \t\t\t\t 0 \t\t\t\t\t 1\n",
      "1 \t 0 \t 0 \t\t 0 \t\t\t\t 1 \t\t\t\t\t 1\n",
      "0 \t 0 \t 0 \t\t 0 \t\t\t\t 0 \t\t\t\t\t 0\n",
      "1 \t 0 \t 1 \t\t 0 \t\t\t\t 1 \t\t\t\t\t 0\n",
      "0 \t 0 \t 1 \t\t 0 \t\t\t\t 0 \t\t\t\t\t 1\n"
     ]
    }
   ],
   "source": [
    "print(\"\\n\\nN2\\n\\nа)\\n(y ∼ z)\\t\\t(x → (y ∼ z))\\n\")\n",
    "\n",
    "for i in (0, 1):\n",
    "    for j in (0, 1):\n",
    "        for k in (0, 1):\n",
    "            print(\n",
    "                    equal(j, k),\n",
    "                    \"\\t\\t\",\n",
    "                    implication(i, equal(j, k))\n",
    "                )\n",
    "            \n",
    "print(\"\\n\\nб)\\nnot z\\t(not z) → y\\tx | ((not z) → y)\\t(x | ((not z) → y)) or z\\n\")\n",
    "\n",
    "for i in (0, 1):\n",
    "    for j in (0, 1):\n",
    "        for k in (0, 1):\n",
    "            print(\n",
    "                    (not k)*1,\n",
    "                    \"\\t\",\n",
    "                    implication((not k), j),\n",
    "                    \"\\t\\t\\t\",\n",
    "                    ShaeffersTouch(i, implication((not k), j)),\n",
    "                    \"\\t\\t\\t\",\n",
    "                    (ShaeffersTouch(i, implication((not k), j)) or k)*1\n",
    "                )\n",
    "            \n",
    "print(\"\\n\\nв)\\nnot z\\tnot x\\t(x → y)\\t\\t(not z) and (not x)\\tz ↓ ((not z) and (not x))\\t(x → y) ⊕ (z ↓ ((not z) and (not x)))\\n\")\n",
    "\n",
    "for i in (0, 1):\n",
    "    for j in (0, 1):\n",
    "        for k in (0, 1):\n",
    "            print(\n",
    "                    (not k)*1,\n",
    "                    \"\\t\",\n",
    "                    (not i)*1,\n",
    "                    \"\\t\",\n",
    "                    implication(i, j),\n",
    "                    \"\\t\\t\",\n",
    "                    ((not k) and (not i))*1,\n",
    "                    \"\\t\\t\\t\\t\",\n",
    "                    PierHand(k, ((not k) and (not i))*1),\n",
    "                    \"\\t\\t\\t\\t\\t\",\n",
    "                    sumMod2(implication(i, j), PierHand(k, ((not k) and (not i))*1))  \n",
    "                )\n"
   ]
  }
 ],
 "metadata": {
  "kernelspec": {
   "display_name": "Python 3",
   "language": "python",
   "name": "python3"
  },
  "language_info": {
   "codemirror_mode": {
    "name": "ipython",
    "version": 3
   },
   "file_extension": ".py",
   "mimetype": "text/x-python",
   "name": "python",
   "nbconvert_exporter": "python",
   "pygments_lexer": "ipython3",
   "version": "3.11.1"
  },
  "orig_nbformat": 4,
  "vscode": {
   "interpreter": {
    "hash": "8b3862bff8ec4c0913ff501ec59a91eeec109cc3060137e5ac68f23925615549"
   }
  }
 },
 "nbformat": 4,
 "nbformat_minor": 2
}
